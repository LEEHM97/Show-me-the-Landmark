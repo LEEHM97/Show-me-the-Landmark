{
 "cells": [
  {
   "cell_type": "code",
   "execution_count": 1,
   "metadata": {},
   "outputs": [],
   "source": [
    "import os\n",
    "import numpy as np\n",
    "import pandas as pd"
   ]
  },
  {
   "cell_type": "code",
   "execution_count": 2,
   "metadata": {},
   "outputs": [
    {
     "data": {
      "text/html": [
       "<div>\n",
       "<style scoped>\n",
       "    .dataframe tbody tr th:only-of-type {\n",
       "        vertical-align: middle;\n",
       "    }\n",
       "\n",
       "    .dataframe tbody tr th {\n",
       "        vertical-align: top;\n",
       "    }\n",
       "\n",
       "    .dataframe thead th {\n",
       "        text-align: right;\n",
       "    }\n",
       "</style>\n",
       "<table border=\"1\" class=\"dataframe\">\n",
       "  <thead>\n",
       "    <tr style=\"text-align: right;\">\n",
       "      <th></th>\n",
       "      <th>file_name</th>\n",
       "      <th>label</th>\n",
       "    </tr>\n",
       "  </thead>\n",
       "  <tbody>\n",
       "    <tr>\n",
       "      <th>0</th>\n",
       "      <td>001.PNG</td>\n",
       "      <td>9</td>\n",
       "    </tr>\n",
       "    <tr>\n",
       "      <th>1</th>\n",
       "      <td>002.PNG</td>\n",
       "      <td>4</td>\n",
       "    </tr>\n",
       "    <tr>\n",
       "      <th>2</th>\n",
       "      <td>003.PNG</td>\n",
       "      <td>1</td>\n",
       "    </tr>\n",
       "    <tr>\n",
       "      <th>3</th>\n",
       "      <td>004.PNG</td>\n",
       "      <td>1</td>\n",
       "    </tr>\n",
       "    <tr>\n",
       "      <th>4</th>\n",
       "      <td>005.PNG</td>\n",
       "      <td>6</td>\n",
       "    </tr>\n",
       "  </tbody>\n",
       "</table>\n",
       "</div>"
      ],
      "text/plain": [
       "  file_name  label\n",
       "0   001.PNG      9\n",
       "1   002.PNG      4\n",
       "2   003.PNG      1\n",
       "3   004.PNG      1\n",
       "4   005.PNG      6"
      ]
     },
     "execution_count": 2,
     "metadata": {},
     "output_type": "execute_result"
    }
   ],
   "source": [
    "df = pd.read_csv('./train.csv')\n",
    "df.head()"
   ]
  },
  {
   "cell_type": "code",
   "execution_count": 34,
   "metadata": {},
   "outputs": [
    {
     "name": "stdout",
     "output_type": "stream",
     "text": [
      "76\n"
     ]
    }
   ],
   "source": [
    "file_list = os.listdir('./dataset/train/')\n",
    "dest_path = ('./dataset/nine/')\n",
    "print(len(file_list))"
   ]
  },
  {
   "cell_type": "code",
   "execution_count": 35,
   "metadata": {},
   "outputs": [
    {
     "name": "stdout",
     "output_type": "stream",
     "text": [
      "001.PNG\n"
     ]
    }
   ],
   "source": [
    "print(file_list[0])"
   ]
  },
  {
   "cell_type": "code",
   "execution_count": 36,
   "metadata": {},
   "outputs": [
    {
     "name": "stdout",
     "output_type": "stream",
     "text": [
      "001.PNG removed\n",
      "011.PNG removed\n",
      "032.PNG removed\n",
      "038.PNG removed\n",
      "042.PNG removed\n",
      "045.PNG removed\n",
      "053.PNG removed\n",
      "060.PNG removed\n",
      "086.PNG removed\n",
      "099.PNG removed\n",
      "103.PNG removed\n",
      "111.PNG removed\n",
      "113.PNG removed\n",
      "115.PNG removed\n",
      "123.PNG removed\n",
      "124.PNG removed\n",
      "131.PNG removed\n",
      "145.PNG removed\n",
      "152.PNG removed\n",
      "159.PNG removed\n",
      "192.PNG removed\n",
      "204.PNG removed\n",
      "205.PNG removed\n",
      "251.PNG removed\n",
      "252.PNG removed\n",
      "258.PNG removed\n",
      "261.PNG removed\n",
      "265.PNG removed\n",
      "271.PNG removed\n",
      "283.PNG removed\n",
      "286.PNG removed\n",
      "302.PNG removed\n",
      "312.PNG removed\n",
      "319.PNG removed\n",
      "327.PNG removed\n",
      "345.PNG removed\n",
      "355.PNG removed\n",
      "356.PNG removed\n",
      "359.PNG removed\n",
      "369.PNG removed\n",
      "379.PNG removed\n",
      "394.PNG removed\n",
      "417.PNG removed\n",
      "421.PNG removed\n",
      "422.PNG removed\n",
      "423.PNG removed\n",
      "424.PNG removed\n",
      "429.PNG removed\n",
      "442.PNG removed\n",
      "452.PNG removed\n",
      "461.PNG removed\n",
      "465.PNG removed\n",
      "487.PNG removed\n",
      "488.PNG removed\n",
      "492.PNG removed\n",
      "509.PNG removed\n",
      "510.PNG removed\n",
      "511.PNG removed\n",
      "517.PNG removed\n",
      "519.PNG removed\n",
      "522.PNG removed\n",
      "531.PNG removed\n",
      "548.PNG removed\n",
      "567.PNG removed\n",
      "582.PNG removed\n",
      "602.PNG removed\n",
      "624.PNG removed\n",
      "625.PNG removed\n",
      "633.PNG removed\n",
      "651.PNG removed\n",
      "665.PNG removed\n",
      "674.PNG removed\n",
      "690.PNG removed\n",
      "700.PNG removed\n",
      "712.PNG removed\n",
      "719.PNG removed\n"
     ]
    }
   ],
   "source": [
    "image_list = list(df[df['label'] == 9].file_name)\n",
    "for j in range(len(image_list)):\n",
    "    if image_list[j] in file_list:\n",
    "            os.replace('./dataset/train/' + image_list[j], dest_path + image_list[j])\n",
    "            print(image_list[j]+\" removed\")\n",
    "    "
   ]
  },
  {
   "cell_type": "code",
   "execution_count": null,
   "metadata": {},
   "outputs": [],
   "source": []
  }
 ],
 "metadata": {
  "kernelspec": {
   "display_name": "Python 3.9.13 ('tensor2.9')",
   "language": "python",
   "name": "python3"
  },
  "language_info": {
   "codemirror_mode": {
    "name": "ipython",
    "version": 3
   },
   "file_extension": ".py",
   "mimetype": "text/x-python",
   "name": "python",
   "nbconvert_exporter": "python",
   "pygments_lexer": "ipython3",
   "version": "3.9.13"
  },
  "orig_nbformat": 4,
  "vscode": {
   "interpreter": {
    "hash": "71fd5fe6be37b4db0cd97162c0729102804300edc330f59999a435bca5ce69d1"
   }
  }
 },
 "nbformat": 4,
 "nbformat_minor": 2
}
